{
 "cells": [
  {
   "cell_type": "code",
   "execution_count": 17,
   "id": "525ddad8-651c-4e19-ab6b-7e86cdba432f",
   "metadata": {},
   "outputs": [],
   "source": [
    "from bs4 import BeautifulSoup\n",
    "\n",
    "with open(\"wanted_flutter.html\", \"r\", encoding=\"utf-8\") as f:\n",
    "    flutter_html = f.read()\n",
    "\n",
    "soup = BeautifulSoup(flutter_html, \"html.parser\")\n",
    "\n",
    "jobs_list = soup.find(\"div\", class_=\"JobList_container__Hv_EA\").find_all(\"div\", class_=\"JobCard_container__REty8\")"
   ]
  },
  {
   "cell_type": "code",
   "execution_count": 19,
   "id": "990c3302-7b06-4d24-88e5-544f9c9548cf",
   "metadata": {},
   "outputs": [
    {
     "name": "stdout",
     "output_type": "stream",
     "text": [
      "[{'title': '풀스택 개발자 (3년이상)', 'company': '하트스페이스', 'url': 'https://www.wanted.co.kr/wd/269388'}, {'title': '[Plus]Flutter 개발자', 'company': '앤서스랩코리아', 'url': 'https://www.wanted.co.kr/wd/269388'}, {'title': '[개발] 앱(Flutter) 개발자 (7~10년, 리더)', 'company': '중고나라', 'url': 'https://www.wanted.co.kr/wd/269388'}, {'title': '[ECG Buddy] Flutter 개발자 (5년 이상)', 'company': '알피', 'url': 'https://www.wanted.co.kr/wd/269388'}, {'title': '플러터 / 리액트 개발자', 'company': '안전집사', 'url': 'https://www.wanted.co.kr/wd/269388'}, {'title': '플러터 개발자(3~8년)', 'company': '래딩랩스', 'url': 'https://www.wanted.co.kr/wd/269388'}, {'title': '모바일 앱 개발자(Flutter, React Native)', 'company': '부지런컴퍼니', 'url': 'https://www.wanted.co.kr/wd/269388'}, {'title': '모바일 엔지니어 (Flutter)', 'company': '엘리스', 'url': 'https://www.wanted.co.kr/wd/269388'}]\n"
     ]
    }
   ],
   "source": [
    "jobs_dict_list = []\n",
    "for job in jobs_list:\n",
    "    title = job.find(\"strong\", class_=\"JobCard_title__HBpZf\").text\n",
    "    company = job.find(\"span\", class_=\"JobCard_companyName__N1YrF\").text\n",
    "    href = first_job.find(\"a\")[\"href\"]\n",
    "    url = f\"https://www.wanted.co.kr{href}\"\n",
    "    job_dict = {\n",
    "        \"title\":title,\n",
    "        \"company\":company,\n",
    "        \"url\":url\n",
    "    }\n",
    "    jobs_dict_list.append(job_dict)\n",
    "print(len(jobs_dict_list))"
   ]
  },
  {
   "cell_type": "code",
   "execution_count": 20,
   "id": "0a47293b-93cb-4377-9159-4d987bf56e03",
   "metadata": {},
   "outputs": [
    {
     "data": {
      "text/plain": [
       "8"
      ]
     },
     "execution_count": 20,
     "metadata": {},
     "output_type": "execute_result"
    }
   ],
   "source": [
    "len(jobs_dict_list)"
   ]
  },
  {
   "cell_type": "code",
   "execution_count": null,
   "id": "6a53cedc-7b73-4a6a-94bd-3f94dfb6ef92",
   "metadata": {},
   "outputs": [],
   "source": []
  }
 ],
 "metadata": {
  "kernelspec": {
   "display_name": "Python 3 (ipykernel)",
   "language": "python",
   "name": "python3"
  },
  "language_info": {
   "codemirror_mode": {
    "name": "ipython",
    "version": 3
   },
   "file_extension": ".py",
   "mimetype": "text/x-python",
   "name": "python",
   "nbconvert_exporter": "python",
   "pygments_lexer": "ipython3",
   "version": "3.9.6"
  }
 },
 "nbformat": 4,
 "nbformat_minor": 5
}
