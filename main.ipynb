{
 "cells": [
  {
   "cell_type": "code",
   "execution_count": 13,
   "metadata": {},
   "outputs": [
    {
     "name": "stdout",
     "output_type": "stream",
     "text": [
      "woof woof!\n",
      "My name is Ruffus and I am a baby Beagle.\n",
      "woof woof!\n"
     ]
    }
   ],
   "source": [
    "class Puppy():\n",
    "    def __init__(self, name, breed): #automatically, method's first argument is self (object 자기 자신)\n",
    "        self.name = name\n",
    "        self.age = 0.1\n",
    "        self.breed = breed\n",
    "    \n",
    "    def __str__(self, ): #object를 출력하면 (print(object)) 이 메소드가 실행됨\n",
    "        return f\"Puppy named {self.name}, whose breed is {self.breed} and {self.age} years old.\\n\"\n",
    "\n",
    "    def woof_woof(self):\n",
    "        print(\"woof woof!\")\n",
    "\n",
    "    def introduce(self):\n",
    "        self.woof_woof()\n",
    "        print(f\"My name is {self.name} and I am a baby {self.breed}.\")\n",
    "        self.woof_woof()\n",
    "\n",
    "\n",
    "        \n",
    "ruffus = Puppy( #instance 생성. instantiation\n",
    "    name=\"Ruffus\", \n",
    "    breed=\"Beagle\"\n",
    ")\n",
    "bibi = Puppy(\n",
    "    name=\"Bibi\",\n",
    "    breed=\"Dalmatian\"\n",
    ")\n",
    "\n",
    "ruffus.introduce()"
   ]
  },
  {
   "cell_type": "code",
   "execution_count": 1,
   "metadata": {},
   "outputs": [
    {
     "name": "stdout",
     "output_type": "stream",
     "text": [
      "Hello world!\n"
     ]
    }
   ],
   "source": [
    "print(\"Hello world!\")"
   ]
  },
  {
   "cell_type": "code",
   "execution_count": null,
   "metadata": {},
   "outputs": [],
   "source": []
  }
 ],
 "metadata": {
  "kernelspec": {
   "display_name": "Python 3",
   "language": "python",
   "name": "python3"
  },
  "language_info": {
   "codemirror_mode": {
    "name": "ipython",
    "version": 3
   },
   "file_extension": ".py",
   "mimetype": "text/x-python",
   "name": "python",
   "nbconvert_exporter": "python",
   "pygments_lexer": "ipython3",
   "version": "3.9.6"
  }
 },
 "nbformat": 4,
 "nbformat_minor": 2
}
