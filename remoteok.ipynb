{
 "cells": [
  {
   "cell_type": "code",
   "execution_count": 31,
   "id": "5057bcea-f4d8-47d6-8f91-22b590ca49f6",
   "metadata": {},
   "outputs": [],
   "source": [
    "import requests\n",
    "from bs4 import BeautifulSoup\n",
    "\n",
    "response = requests.get(\n",
    "    \"https://berlinstartupjobs.com/engineering/\", #remote ok가 아니네\n",
    "    headers={\n",
    "        \"User-Agent\":\n",
    "        \"Mozilla/5.0 (Macintosh; Intel Mac OS X 10_15_7) AppleWebKit/537.36 (KHTML, like Gecko) Chrome/120.0.0.0 Safari/537.36\"\n",
    "    })\n",
    "\n",
    "skills = [\"python\", \"typescript\", \"javascript\", \"rust\"]"
   ]
  },
  {
   "cell_type": "code",
   "execution_count": 32,
   "id": "e39fb7ab-64ea-4900-990c-7a27de6a4c48",
   "metadata": {},
   "outputs": [
    {
     "data": {
      "text/plain": [
       "200"
      ]
     },
     "execution_count": 32,
     "metadata": {},
     "output_type": "execute_result"
    }
   ],
   "source": [
    "response.status_code"
   ]
  },
  {
   "cell_type": "code",
   "execution_count": 30,
   "id": "38eb89e3-f9e6-44db-9600-a846fd92f66a",
   "metadata": {},
   "outputs": [
    {
     "name": "stdout",
     "output_type": "stream",
     "text": [
      "403\n"
     ]
    }
   ],
   "source": [
    "import requests\n",
    "from bs4 import BeautifulSoup\n",
    "\n",
    "user_agent = \"Mozilla/5.0 (Macintosh; Intel Mac OS X 10_15_7) AppleWebKit/537.36 (KHTML, like Gecko) Chrome/133.0.0.0 Safari/537.36\"\n",
    "keyword = \"python\"\n",
    "url = f\"https://remoteok.com/remote-{keyword}-jobs\"\n",
    "\n",
    "response = requests.get(url, headers={\"User-Agent\":user_agent})\n",
    "print(response.status_code) #이제 403 뜸. 근데 왜 그저께에는 잘 됐지? replit에서도 안됨ㅠㅠ"
   ]
  },
  {
   "cell_type": "code",
   "execution_count": 26,
   "id": "b589ee46-0547-493b-a3a8-bcb30ea92405",
   "metadata": {},
   "outputs": [
    {
     "ename": "AttributeError",
     "evalue": "'NoneType' object has no attribute 'find_all'",
     "output_type": "error",
     "traceback": [
      "\u001b[0;31m---------------------------------------------------------------------------\u001b[0m",
      "\u001b[0;31mAttributeError\u001b[0m                            Traceback (most recent call last)",
      "Cell \u001b[0;32mIn[26], line 2\u001b[0m\n\u001b[1;32m      1\u001b[0m soup \u001b[38;5;241m=\u001b[39m BeautifulSoup(response\u001b[38;5;241m.\u001b[39mcontent, \u001b[38;5;124m\"\u001b[39m\u001b[38;5;124mhtml.parser\u001b[39m\u001b[38;5;124m\"\u001b[39m)\n\u001b[0;32m----> 2\u001b[0m jobs_list \u001b[38;5;241m=\u001b[39m \u001b[43msoup\u001b[49m\u001b[38;5;241;43m.\u001b[39;49m\u001b[43mfind\u001b[49m\u001b[43m(\u001b[49m\u001b[38;5;124;43m\"\u001b[39;49m\u001b[38;5;124;43mtable\u001b[39;49m\u001b[38;5;124;43m\"\u001b[39;49m\u001b[43m,\u001b[49m\u001b[43m \u001b[49m\u001b[38;5;28;43mid\u001b[39;49m\u001b[38;5;241;43m=\u001b[39;49m\u001b[38;5;124;43m\"\u001b[39;49m\u001b[38;5;124;43mjobsboard\u001b[39;49m\u001b[38;5;124;43m\"\u001b[39;49m\u001b[43m)\u001b[49m\u001b[38;5;241;43m.\u001b[39;49m\u001b[43mfind_all\u001b[49m(\u001b[38;5;124m\"\u001b[39m\u001b[38;5;124mtd\u001b[39m\u001b[38;5;124m\"\u001b[39m, class_\u001b[38;5;241m=\u001b[39m\u001b[38;5;124m\"\u001b[39m\u001b[38;5;124mcompany_and_position\u001b[39m\u001b[38;5;124m\"\u001b[39m)\n\u001b[1;32m      3\u001b[0m \u001b[38;5;28mprint\u001b[39m(jobs_list)\n",
      "\u001b[0;31mAttributeError\u001b[0m: 'NoneType' object has no attribute 'find_all'"
     ]
    }
   ],
   "source": [
    "soup = BeautifulSoup(response.content, \"html.parser\")\n",
    "jobs_list = soup.find(\"table\", id=\"jobsboard\").find_all(\"td\", class_=\"company_and_position\")\n",
    "print(jobs_list)"
   ]
  },
  {
   "cell_type": "code",
   "execution_count": 23,
   "id": "9b802be6-44fc-4110-92db-b5e4f03e7068",
   "metadata": {},
   "outputs": [
    {
     "name": "stdout",
     "output_type": "stream",
     "text": [
      "Junior DevOps Engineer\n",
      "https://remoteok.com/remote-jobs/remote-junior-devops-engineer-automatiq-1084729\n",
      "Automatiq\n",
      "🌏 Worldwide\n",
      "💰 $50k - $80k*\n"
     ]
    }
   ],
   "source": [
    "first_job = jobs_list[1]\n",
    "title = first_job.find(\"h2\").text.strip()\n",
    "print(title)\n",
    "job_href = first_job.find(\"a\")['href']\n",
    "base_url = \"https://remoteok.com\"\n",
    "job_url = f\"{base_url}{job_href}\"\n",
    "print(job_url)\n",
    "company = first_job.find(\"h3\").text.strip()\n",
    "print(company)\n",
    "locations = first_job.find_all(\"div\", class_=\"location\")\n",
    "for loc in locations:\n",
    "    print(loc.text)\n"
   ]
  },
  {
   "cell_type": "code",
   "execution_count": 24,
   "id": "ed793ac1-e520-4d1a-a7b5-39f9a747a465",
   "metadata": {},
   "outputs": [
    {
     "ename": "AttributeError",
     "evalue": "'NoneType' object has no attribute 'text'",
     "output_type": "error",
     "traceback": [
      "\u001b[0;31m---------------------------------------------------------------------------\u001b[0m",
      "\u001b[0;31mAttributeError\u001b[0m                            Traceback (most recent call last)",
      "Cell \u001b[0;32mIn[24], line 2\u001b[0m\n\u001b[1;32m      1\u001b[0m \u001b[38;5;28;01mfor\u001b[39;00m job \u001b[38;5;129;01min\u001b[39;00m jobs_list:\n\u001b[0;32m----> 2\u001b[0m     \u001b[43mjob\u001b[49m\u001b[38;5;241;43m.\u001b[39;49m\u001b[43mfind\u001b[49m\u001b[43m(\u001b[49m\u001b[38;5;124;43m\"\u001b[39;49m\u001b[38;5;124;43mh2\u001b[39;49m\u001b[38;5;124;43m\"\u001b[39;49m\u001b[43m)\u001b[49m\u001b[38;5;241;43m.\u001b[39;49m\u001b[43mtext\u001b[49m\u001b[38;5;241m.\u001b[39mstrip()\n\u001b[1;32m      3\u001b[0m     \u001b[38;5;28mprint\u001b[39m(title)\n\u001b[1;32m      4\u001b[0m     job_href \u001b[38;5;241m=\u001b[39m job\u001b[38;5;241m.\u001b[39mfind(\u001b[38;5;124m\"\u001b[39m\u001b[38;5;124ma\u001b[39m\u001b[38;5;124m\"\u001b[39m)[\u001b[38;5;124m'\u001b[39m\u001b[38;5;124mhref\u001b[39m\u001b[38;5;124m'\u001b[39m]\n",
      "\u001b[0;31mAttributeError\u001b[0m: 'NoneType' object has no attribute 'text'"
     ]
    }
   ],
   "source": [
    "for job in jobs_list:\n",
    "    job.find(\"h2\").text.strip()\n",
    "    print(title)\n",
    "    job_href = job.find(\"a\")['href']\n",
    "    base_url = \"https://remoteok.com\"\n",
    "    job_url = f\"{base_url}{job_href}\"\n",
    "    print(job_url)\n",
    "    company = job.find(\"h3\").text.strip()\n",
    "    print(company)\n",
    "    locations = job.find_all(\"div\", class_=\"location\")\n",
    "    for loc in locations:\n",
    "        print(loc.text)\n"
   ]
  },
  {
   "cell_type": "code",
   "execution_count": null,
   "id": "508538be-4d83-4db3-afe9-89e9db6b4a8f",
   "metadata": {},
   "outputs": [],
   "source": []
  }
 ],
 "metadata": {
  "kernelspec": {
   "display_name": "Python 3 (ipykernel)",
   "language": "python",
   "name": "python3"
  },
  "language_info": {
   "codemirror_mode": {
    "name": "ipython",
    "version": 3
   },
   "file_extension": ".py",
   "mimetype": "text/x-python",
   "name": "python",
   "nbconvert_exporter": "python",
   "pygments_lexer": "ipython3",
   "version": "3.9.6"
  }
 },
 "nbformat": 4,
 "nbformat_minor": 5
}
